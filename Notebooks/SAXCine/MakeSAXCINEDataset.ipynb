{
 "cells": [
  {
   "cell_type": "code",
   "execution_count": null,
   "id": "1c103ce7-51ea-405f-a798-2b150fedbf22",
   "metadata": {},
   "outputs": [],
   "source": [
    "import os\n",
    "import shutil\n",
    "import json\n",
    "from pathlib import Path\n",
    "import traceback\n",
    "\n",
    "import pydicom\n",
    "import numpy as np\n",
    "import matplotlib.pyplot as plt\n",
    "from shapely.geometry import shape, Polygon\n",
    "from shapely.affinity import scale\n",
    "\n",
    "from RoomOfRequirement.Quad import QUAD_Manager\n",
    "from RoomOfRequirement.Evaluation import Evaluation"
   ]
  },
  {
   "cell_type": "code",
   "execution_count": null,
   "id": "56865ee3-d129-4fc6-9257-e3b528749dd6",
   "metadata": {},
   "outputs": [],
   "source": [
    "# generate the desired folder structure\n",
    "dataset_path = '/Users/thomas/Documents/GitHub/cnn4cmr/Datasets/SAXCINE_dataset'\n",
    "for p in ['Imgs', 'Gold', 'Additional_Info']: Path(os.path.join(dataset_path, p)).mkdir(parents=True, exist_ok=True)"
   ]
  },
  {
   "cell_type": "code",
   "execution_count": null,
   "id": "541b23ed-0b0a-4409-b052-c229ccaee7f9",
   "metadata": {},
   "outputs": [],
   "source": []
  },
  {
   "cell_type": "code",
   "execution_count": null,
   "id": "32a6a4dc-5554-478d-89e8-f44c182074eb",
   "metadata": {},
   "outputs": [],
   "source": [
    "# Get cohort"
   ]
  },
  {
   "cell_type": "code",
   "execution_count": null,
   "id": "b9976dba-85f3-4488-b967-4dd42cad840e",
   "metadata": {
    "scrolled": true
   },
   "outputs": [],
   "source": [
    "quad   = QUAD_Manager()\n",
    "cohort = quad.coho_coll.find_one({'name': 'CineCS'})"
   ]
  },
  {
   "cell_type": "code",
   "execution_count": null,
   "id": "014e7092-78c2-4d0c-92b8-63aa5824b8b5",
   "metadata": {},
   "outputs": [],
   "source": []
  },
  {
   "cell_type": "code",
   "execution_count": null,
   "id": "4d1ea240-245b-4fec-85c6-9eadc19ffcc4",
   "metadata": {
    "scrolled": true
   },
   "outputs": [],
   "source": [
    "# get gold id\n",
    "tasks     = list(quad.task_coll.find({'studyuids': {'$in': cohort['studyuids']}}))\n",
    "gold_task = [t for t in tasks if len(t['studyuids'])==150 and t['displayname']=='Gold'][0]\n",
    "gold_id   = gold_task['_id']\n",
    "\n",
    "# gold evals\n",
    "evals = {eva['studyuid']:eva for eva in quad.eval_coll.find({'studyuid': {'$in': cohort['studyuids']}, 'imagetype': 'SAX CINE', 'task_id': gold_id})}\n",
    "evals = {k: Evaluation(quad, studyuid=e['studyuid'], imagetype=e['imagetype'], task_id=e['task_id']) for k,e in evals.items()}\n",
    "\n",
    "# get es & ed, get all images for the two contoured phases\n",
    "phases   = {}\n",
    "sops_st1 = []\n",
    "for suid, eva in evals.items():\n",
    "    if eva.imagetype=='SAX CS' and eva.name in ['ECSPRESS-038', 'ECSPRESS-114']: continue\n",
    "    try:    phases_tmp = [eva.clinical_parameters[s][0] for s in ['LVESP', 'LVEDP', 'RVESP', 'RVEDP']]\n",
    "    except: print(suid, eva.name)\n",
    "    phases[suid] = dict()\n",
    "    if phases_tmp[0]!=phases_tmp[2] or phases_tmp[1]!=phases_tmp[3]: \n",
    "        print('Different phases!!!: ', phases_tmp, suid, eva.name)\n",
    "\n",
    "    base_idxs = {'rvesb':-1, 'lvesb':-1, 'lvmesb':-1, 'rvedb':-1, 'lvedb':-1, 'lvmedb':-1}\n",
    "    for d in range(eva.nr_slices):\n",
    "        es_sop, ed_sop = eva.depthandtime2sop[(d,phases_tmp[0])], eva.depthandtime2sop[(d,phases_tmp[1])]\n",
    "        sops_st1.extend([es_sop, ed_sop])\n",
    "        phases[suid][es_sop] = {'ESP': phases_tmp[0], 'Slice': d}\n",
    "        phases[suid][ed_sop] = {'EDP': phases_tmp[1], 'Slice': d}\n",
    "\n",
    "        for cname, phasesop, phase, base_contname in zip(['rv_endo',     'rv_endo',     'lv_endo',     'lv_endo',     'lv_myo',      'lv_myo'], \n",
    "                                                         [es_sop,        ed_sop,        es_sop,        ed_sop,        es_sop,        ed_sop],\n",
    "                                                         [phases_tmp[0], phases_tmp[1], phases_tmp[0], phases_tmp[1], phases_tmp[0], phases_tmp[1]], \n",
    "                                                         list(base_idxs.keys())):\n",
    "            if base_idxs[base_contname]==-1:\n",
    "                if eva.get_anno(d,phase).has_contour(cname): phases[suid][phasesop][cname] = 'Basal'; base_idxs[base_contname]=d\n",
    "                else: phases[suid][phasesop][cname+' pos'] = 'Out Basal'\n",
    "            else:\n",
    "                if eva.get_anno(d,phase).has_contour(cname): # then MIDV or apic\n",
    "                    if d==eva.nr_slices-1 or not eva.get_anno(d+1,phase).has_contour(cname): phases[suid][phasesop][cname+' pos'] = 'Apex' # apical\n",
    "                    else: phases[suid][phasesop][cname+' pos'] = 'Midventricle'\n",
    "                else: \n",
    "                    phases[suid][phasesop][cname+' pos'] = 'Out Apex'\n",
    "        \n",
    "\n",
    "# get imgs\n",
    "imgs_st1 = {sop: quad.dcm_coll.find_one({'sop': sop}) for sop in sops_st1}\n",
    "# get annos\n",
    "annos_st1 = {a['sop']:a for a in quad.anno_coll.find({'task_id': gold_id, 'sop': {'$in': sops_st1}})}"
   ]
  },
  {
   "cell_type": "code",
   "execution_count": null,
   "id": "73508dee-ef37-488c-82c7-5e790a75c79f",
   "metadata": {},
   "outputs": [],
   "source": [
    "# limit to the sops with annotations and images\n",
    "sops_st  = sops_st1 #set([k for k in annos_st1.keys()]).union(set([i['sop'] for i in imgs_st1.values() if i is not None]))\n",
    "imgs_st  = {s:i for s,i in imgs_st1.items() if s in sops_st}\n",
    "annos_st = {k:a for k,a in annos_st1.items() if k in sops_st}\n",
    "print('all sops: ', len(sops_st), '\\nannos:\\t', len(annos_st), '\\nimages: ', len(imgs_st))"
   ]
  },
  {
   "cell_type": "code",
   "execution_count": null,
   "id": "adf57c5c-fad9-4c51-a6aa-54c2ba6c7248",
   "metadata": {
    "scrolled": true
   },
   "outputs": [],
   "source": []
  },
  {
   "cell_type": "code",
   "execution_count": null,
   "id": "0378c5f9-9e5d-4774-a135-a730b8efc1b5",
   "metadata": {},
   "outputs": [],
   "source": [
    "# resort all to  -- dict: {studyuid -> {sop -> object}} -- "
   ]
  },
  {
   "cell_type": "code",
   "execution_count": null,
   "id": "a307e7dd-77e4-4f46-ae13-7bb336cceff4",
   "metadata": {},
   "outputs": [],
   "source": [
    "# resorting imgs\n",
    "imgs = {img['studyuid']:dict() for img in imgs_st.values()}\n",
    "for img in imgs_st.values(): imgs[img['studyuid']][img['sop']] = img\n",
    "print(len(imgs))"
   ]
  },
  {
   "cell_type": "code",
   "execution_count": null,
   "id": "9a8b96c9-5243-4f33-a14a-7e2ef3f603e0",
   "metadata": {},
   "outputs": [],
   "source": [
    "# resorting annos\n",
    "annos = {a['studyuid']:dict() for a in annos_st.values()}\n",
    "for a in annos_st.values(): annos[a['studyuid']][a['sop']] = a\n",
    "print(len(annos))"
   ]
  },
  {
   "cell_type": "code",
   "execution_count": null,
   "id": "5f43a801-ff6a-47c8-b569-0062daed3c19",
   "metadata": {
    "scrolled": true
   },
   "outputs": [],
   "source": []
  },
  {
   "cell_type": "code",
   "execution_count": null,
   "id": "21f64610-73fc-41fb-9b0e-c6965a5f5a44",
   "metadata": {
    "scrolled": true
   },
   "outputs": [],
   "source": [
    "# get bounding boxes\n",
    "# add es, ed, postion + geomname\n",
    "c = 0\n",
    "bbs = {suid:dict() for suid in imgs.keys()}\n",
    "for suid in bbs.keys():\n",
    "    for sop in imgs[suid].keys():\n",
    "        bbs[suid][sop] = dict()\n",
    "        heart_shape = Polygon()\n",
    "        for cname in ['lv_myo', 'lv_epi', 'rv_endo']:\n",
    "            try: heart_shape = heart_shape.union(shape(annos[suid][sop][cname]['cont'])) # here it is still 'cont'\n",
    "            except: pass#print(traceback.format_exc()); continue\n",
    "        for scale_f in [1.0, 1.5, 2.0, 2.5, 3.0, 3.5]:\n",
    "            # get / merge all shapes available\n",
    "            xmin,  ymin,  xmax,  ymax = scale(heart_shape, xfact=scale_f, yfact=scale_f, origin='center').bounds\n",
    "            #if np.isnan(xmin): xmin,  ymin,  xmax,  ymax = np.nan, np.nan, np.nan, np.nan\n",
    "            if np.isnan(xmin): xmin,  ymin,  xmax,  ymax = \"\",\"\",\"\",\"\"\n",
    "            bbs[suid][sop]['bounding_box_scale_'+str(scale_f)] = [xmin, xmax, ymin, ymax]\n",
    "        bbs[suid][sop] |= phases[suid][sop]"
   ]
  },
  {
   "cell_type": "code",
   "execution_count": null,
   "id": "491036c6-46a9-454b-999a-db6347ec42bf",
   "metadata": {
    "scrolled": true
   },
   "outputs": [],
   "source": []
  },
  {
   "cell_type": "code",
   "execution_count": null,
   "id": "d596772f-a9c3-4a0b-9248-392959d373ea",
   "metadata": {},
   "outputs": [],
   "source": [
    "# copy all over into their respective folders"
   ]
  },
  {
   "cell_type": "code",
   "execution_count": null,
   "id": "0d09d8ed-c981-4bcb-af46-f00993a5d002",
   "metadata": {
    "scrolled": true
   },
   "outputs": [],
   "source": [
    "annos_folder = os.path.join(dataset_path, 'Gold')\n",
    "for suid_i, suid in enumerate(annos.keys()):\n",
    "    anno_folder = os.path.join(annos_folder, suid)\n",
    "    Path(anno_folder).mkdir(parents=True, exist_ok=True)\n",
    "    for sop in annos[suid].keys():\n",
    "        anno = annos[suid][sop]\n",
    "        try:    anno.pop('_id'); anno.pop('task_id'); anno.pop('studyuid'); anno.pop('sop')\n",
    "        except: continue; #print(traceback.format_exc()); continue\n",
    "        try:\n",
    "            for k in anno.keys():\n",
    "                if 'cont' in anno[k].keys(): anno[k]['geom'] = anno[k].pop('cont')\n",
    "        except: continue; #print(traceback.format_exc()); continue\n",
    "        anno_path = os.path.join(anno_folder, sop+'.json')\n",
    "        with open(anno_path, \"w\") as outfile: \n",
    "            json.dump(anno, outfile, indent=4)"
   ]
  },
  {
   "cell_type": "code",
   "execution_count": null,
   "id": "b404ab7d-f84d-441c-9cc3-62c6477aeb80",
   "metadata": {},
   "outputs": [],
   "source": [
    "imgs_folder = os.path.join(dataset_path, 'Imgs')\n",
    "for suid in imgs.keys(): # annos on purpose (we only want the images with contours)\n",
    "    img_folder = os.path.join(imgs_folder, suid)\n",
    "    Path(img_folder).mkdir(parents=True, exist_ok=True)\n",
    "    for sop in imgs[suid].keys(): # annos on purpose (we only want the images with contours)\n",
    "        img      = imgs[suid][sop]\n",
    "        shutil.copyfile(img['path'], os.path.join(img_folder, sop+'.dcm'))"
   ]
  },
  {
   "cell_type": "code",
   "execution_count": null,
   "id": "93a7dd0a-8460-40cf-b84f-d736cca0af17",
   "metadata": {},
   "outputs": [],
   "source": []
  },
  {
   "cell_type": "code",
   "execution_count": null,
   "id": "15546325-78bc-41ea-a555-76953e74ca28",
   "metadata": {},
   "outputs": [],
   "source": [
    "# create additional info files (contain bounding boxes)"
   ]
  },
  {
   "cell_type": "code",
   "execution_count": null,
   "id": "9ff73cc3-5bce-4604-b97e-34f5e0cbd3be",
   "metadata": {},
   "outputs": [],
   "source": [
    "additional_info_folder = os.path.join(dataset_path, 'Additional_Info')\n",
    "for suid in bbs.keys():\n",
    "    ainfo_folder = os.path.join(additional_info_folder, suid)\n",
    "    Path(ainfo_folder).mkdir(parents=True, exist_ok=True)\n",
    "    for sop in bbs[suid].keys():\n",
    "        ainfo_path = os.path.join(ainfo_folder, sop+'.json')\n",
    "        with open(ainfo_path, \"w\") as outfile:\n",
    "            json.dump(bbs[suid][sop], outfile, indent=4)"
   ]
  }
 ],
 "metadata": {
  "kernelspec": {
   "display_name": "test_ror",
   "language": "python",
   "name": "test_ror"
  },
  "language_info": {
   "codemirror_mode": {
    "name": "ipython",
    "version": 3
   },
   "file_extension": ".py",
   "mimetype": "text/x-python",
   "name": "python",
   "nbconvert_exporter": "python",
   "pygments_lexer": "ipython3",
   "version": "3.11.4"
  }
 },
 "nbformat": 4,
 "nbformat_minor": 5
}
