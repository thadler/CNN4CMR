{
 "cells": [
  {
   "cell_type": "code",
   "execution_count": null,
   "metadata": {},
   "outputs": [],
   "source": [
    "%load_ext autoreload\n",
    "%autoreload 2\n",
    "\n",
    "from cnn4cmr.architectures.unet import *\n",
    "from cnn4cmr.architectures.fcn import *"
   ]
  },
  {
   "cell_type": "code",
   "execution_count": null,
   "metadata": {
    "scrolled": true
   },
   "outputs": [],
   "source": [
    "device = 'mps'"
   ]
  },
  {
   "cell_type": "code",
   "execution_count": null,
   "metadata": {
    "scrolled": true
   },
   "outputs": [],
   "source": [
    "# UNET\n",
    "model = Unet(5, 1, 8, 3).to(device) # depth, in_ch, st_ch, out_ch\n",
    "model.init_weights()\n",
    "x = torch.from_numpy(np.arange(4*256*256*1).reshape(4,1,256,256).astype(np.float32)).to(device)\n",
    "y = model(x)\n",
    "print(x.shape, x.dtype, y.shape)"
   ]
  },
  {
   "cell_type": "code",
   "execution_count": null,
   "metadata": {
    "scrolled": true
   },
   "outputs": [],
   "source": [
    "# FCN\n",
    "model = FCN(5, 1, 8, 3).to(device)\n",
    "model.init_weights()\n",
    "x = torch.from_numpy(np.arange(4*256*256*1).reshape(4,1,256,256).astype(np.float32)).to(device)\n",
    "y = model(x)\n",
    "print(x.shape, x.dtype, y.shape)"
   ]
  },
  {
   "cell_type": "code",
   "execution_count": null,
   "metadata": {
    "scrolled": true
   },
   "outputs": [],
   "source": []
  },
  {
   "cell_type": "code",
   "execution_count": null,
   "metadata": {},
   "outputs": [],
   "source": []
  }
 ],
 "metadata": {
  "kernelspec": {
   "display_name": "Python 3 (ipykernel)",
   "language": "python",
   "name": "python3"
  },
  "language_info": {
   "codemirror_mode": {
    "name": "ipython",
    "version": 3
   },
   "file_extension": ".py",
   "mimetype": "text/x-python",
   "name": "python",
   "nbconvert_exporter": "python",
   "pygments_lexer": "ipython3",
   "version": "3.11.4"
  }
 },
 "nbformat": 4,
 "nbformat_minor": 4
}
